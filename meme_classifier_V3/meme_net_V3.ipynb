{
  "nbformat": 4,
  "nbformat_minor": 0,
  "metadata": {
    "colab": {
      "name": "meme_net_V3.ipynb",
      "provenance": [],
      "collapsed_sections": [],
      "toc_visible": true
    },
    "kernelspec": {
      "name": "python3",
      "display_name": "Python 3"
    },
    "accelerator": "GPU",
    "widgets": {
      "application/vnd.jupyter.widget-state+json": {
        "bd13ea6b0a8346efabdb353cb9d0d93d": {
          "model_module": "@jupyter-widgets/controls",
          "model_name": "HBoxModel",
          "state": {
            "_view_name": "HBoxView",
            "_dom_classes": [],
            "_model_name": "HBoxModel",
            "_view_module": "@jupyter-widgets/controls",
            "_model_module_version": "1.5.0",
            "_view_count": null,
            "_view_module_version": "1.5.0",
            "box_style": "",
            "layout": "IPY_MODEL_2af9d9d7914a4ef8b7e045fc01d9c4d4",
            "_model_module": "@jupyter-widgets/controls",
            "children": [
              "IPY_MODEL_52cd2d6431c14f4f8ef8d1c3f1420b88",
              "IPY_MODEL_aa6cf92cffc444c6973bb3023d640c02"
            ]
          }
        },
        "2af9d9d7914a4ef8b7e045fc01d9c4d4": {
          "model_module": "@jupyter-widgets/base",
          "model_name": "LayoutModel",
          "state": {
            "_view_name": "LayoutView",
            "grid_template_rows": null,
            "right": null,
            "justify_content": null,
            "_view_module": "@jupyter-widgets/base",
            "overflow": null,
            "_model_module_version": "1.2.0",
            "_view_count": null,
            "flex_flow": null,
            "width": null,
            "min_width": null,
            "border": null,
            "align_items": null,
            "bottom": null,
            "_model_module": "@jupyter-widgets/base",
            "top": null,
            "grid_column": null,
            "overflow_y": null,
            "overflow_x": null,
            "grid_auto_flow": null,
            "grid_area": null,
            "grid_template_columns": null,
            "flex": null,
            "_model_name": "LayoutModel",
            "justify_items": null,
            "grid_row": null,
            "max_height": null,
            "align_content": null,
            "visibility": null,
            "align_self": null,
            "height": null,
            "min_height": null,
            "padding": null,
            "grid_auto_rows": null,
            "grid_gap": null,
            "max_width": null,
            "order": null,
            "_view_module_version": "1.2.0",
            "grid_template_areas": null,
            "object_position": null,
            "object_fit": null,
            "grid_auto_columns": null,
            "margin": null,
            "display": null,
            "left": null
          }
        },
        "52cd2d6431c14f4f8ef8d1c3f1420b88": {
          "model_module": "@jupyter-widgets/controls",
          "model_name": "FloatProgressModel",
          "state": {
            "_view_name": "ProgressView",
            "style": "IPY_MODEL_874fecb09cf14c46ab5a6bf989b4b34b",
            "_dom_classes": [],
            "description": "100%",
            "_model_name": "FloatProgressModel",
            "bar_style": "success",
            "max": 46827520,
            "_view_module": "@jupyter-widgets/controls",
            "_model_module_version": "1.5.0",
            "value": 46827520,
            "_view_count": null,
            "_view_module_version": "1.5.0",
            "orientation": "horizontal",
            "min": 0,
            "description_tooltip": null,
            "_model_module": "@jupyter-widgets/controls",
            "layout": "IPY_MODEL_9924b87e0271439abd55fb17b2db415c"
          }
        },
        "aa6cf92cffc444c6973bb3023d640c02": {
          "model_module": "@jupyter-widgets/controls",
          "model_name": "HTMLModel",
          "state": {
            "_view_name": "HTMLView",
            "style": "IPY_MODEL_3768f2bcc4a948ac9ba547174c007349",
            "_dom_classes": [],
            "description": "",
            "_model_name": "HTMLModel",
            "placeholder": "​",
            "_view_module": "@jupyter-widgets/controls",
            "_model_module_version": "1.5.0",
            "value": " 44.7M/44.7M [1:39:35&lt;00:00, 7.84kB/s]",
            "_view_count": null,
            "_view_module_version": "1.5.0",
            "description_tooltip": null,
            "_model_module": "@jupyter-widgets/controls",
            "layout": "IPY_MODEL_0aeafa73f27d4c56a044b4f5e1149bff"
          }
        },
        "874fecb09cf14c46ab5a6bf989b4b34b": {
          "model_module": "@jupyter-widgets/controls",
          "model_name": "ProgressStyleModel",
          "state": {
            "_view_name": "StyleView",
            "_model_name": "ProgressStyleModel",
            "description_width": "initial",
            "_view_module": "@jupyter-widgets/base",
            "_model_module_version": "1.5.0",
            "_view_count": null,
            "_view_module_version": "1.2.0",
            "bar_color": null,
            "_model_module": "@jupyter-widgets/controls"
          }
        },
        "9924b87e0271439abd55fb17b2db415c": {
          "model_module": "@jupyter-widgets/base",
          "model_name": "LayoutModel",
          "state": {
            "_view_name": "LayoutView",
            "grid_template_rows": null,
            "right": null,
            "justify_content": null,
            "_view_module": "@jupyter-widgets/base",
            "overflow": null,
            "_model_module_version": "1.2.0",
            "_view_count": null,
            "flex_flow": null,
            "width": null,
            "min_width": null,
            "border": null,
            "align_items": null,
            "bottom": null,
            "_model_module": "@jupyter-widgets/base",
            "top": null,
            "grid_column": null,
            "overflow_y": null,
            "overflow_x": null,
            "grid_auto_flow": null,
            "grid_area": null,
            "grid_template_columns": null,
            "flex": null,
            "_model_name": "LayoutModel",
            "justify_items": null,
            "grid_row": null,
            "max_height": null,
            "align_content": null,
            "visibility": null,
            "align_self": null,
            "height": null,
            "min_height": null,
            "padding": null,
            "grid_auto_rows": null,
            "grid_gap": null,
            "max_width": null,
            "order": null,
            "_view_module_version": "1.2.0",
            "grid_template_areas": null,
            "object_position": null,
            "object_fit": null,
            "grid_auto_columns": null,
            "margin": null,
            "display": null,
            "left": null
          }
        },
        "3768f2bcc4a948ac9ba547174c007349": {
          "model_module": "@jupyter-widgets/controls",
          "model_name": "DescriptionStyleModel",
          "state": {
            "_view_name": "StyleView",
            "_model_name": "DescriptionStyleModel",
            "description_width": "",
            "_view_module": "@jupyter-widgets/base",
            "_model_module_version": "1.5.0",
            "_view_count": null,
            "_view_module_version": "1.2.0",
            "_model_module": "@jupyter-widgets/controls"
          }
        },
        "0aeafa73f27d4c56a044b4f5e1149bff": {
          "model_module": "@jupyter-widgets/base",
          "model_name": "LayoutModel",
          "state": {
            "_view_name": "LayoutView",
            "grid_template_rows": null,
            "right": null,
            "justify_content": null,
            "_view_module": "@jupyter-widgets/base",
            "overflow": null,
            "_model_module_version": "1.2.0",
            "_view_count": null,
            "flex_flow": null,
            "width": null,
            "min_width": null,
            "border": null,
            "align_items": null,
            "bottom": null,
            "_model_module": "@jupyter-widgets/base",
            "top": null,
            "grid_column": null,
            "overflow_y": null,
            "overflow_x": null,
            "grid_auto_flow": null,
            "grid_area": null,
            "grid_template_columns": null,
            "flex": null,
            "_model_name": "LayoutModel",
            "justify_items": null,
            "grid_row": null,
            "max_height": null,
            "align_content": null,
            "visibility": null,
            "align_self": null,
            "height": null,
            "min_height": null,
            "padding": null,
            "grid_auto_rows": null,
            "grid_gap": null,
            "max_width": null,
            "order": null,
            "_view_module_version": "1.2.0",
            "grid_template_areas": null,
            "object_position": null,
            "object_fit": null,
            "grid_auto_columns": null,
            "margin": null,
            "display": null,
            "left": null
          }
        }
      }
    }
  },
  "cells": [
    {
      "cell_type": "markdown",
      "metadata": {
        "id": "jJbFj1wLsokA"
      },
      "source": [
        "#initial setup for pytorch"
      ]
    },
    {
      "cell_type": "code",
      "metadata": {
        "colab": {
          "base_uri": "https://localhost:8080/"
        },
        "id": "MffAD-xPsrOP",
        "outputId": "6db859fd-2386-4800-d71a-51739b3a6f3b"
      },
      "source": [
        "import torch\n",
        "import torchvision\n",
        "import torchvision.transforms as transforms\n",
        "import matplotlib.pyplot as plt\n",
        "import numpy as np\n",
        "import torch.nn as nn\n",
        "import torch.nn.functional as F\n",
        "import torch.optim as optim\n",
        "\n",
        "device = torch.device(\"cuda:0\" if torch.cuda.is_available() else \"cpu\") \n",
        "print(device) # should print cuda:0 if setup correctly"
      ],
      "execution_count": 1,
      "outputs": [
        {
          "output_type": "stream",
          "text": [
            "cuda:0\n"
          ],
          "name": "stdout"
        }
      ]
    },
    {
      "cell_type": "markdown",
      "metadata": {
        "id": "6TY9r5Q4tXwX"
      },
      "source": [
        "# connect to google drive folders "
      ]
    },
    {
      "cell_type": "code",
      "metadata": {
        "colab": {
          "base_uri": "https://localhost:8080/"
        },
        "id": "wOuT3zcrtc1z",
        "outputId": "2f0b349b-f47e-4a70-8dc6-3d83dc35fb4b"
      },
      "source": [
        "import os\n",
        "from google.colab import drive\n",
        "drive.mount(\"/content/drive\")\n",
        "meme_net = \"/content/drive/MyDrive/colab_files/meme_net/V3/\"\n",
        "if not os.path.exists(meme_net):\n",
        "    os.makedirs(meme_net)"
      ],
      "execution_count": 2,
      "outputs": [
        {
          "output_type": "stream",
          "text": [
            "Mounted at /content/drive\n"
          ],
          "name": "stdout"
        }
      ]
    },
    {
      "cell_type": "markdown",
      "metadata": {
        "id": "GK9HIfYQtvgz"
      },
      "source": [
        "# unzip meme image set in google drive to add to local runtime"
      ]
    },
    {
      "cell_type": "code",
      "metadata": {
        "id": "_BsVAa7H9uOg",
        "colab": {
          "base_uri": "https://localhost:8080/"
        },
        "outputId": "6214d09f-164f-4b2d-c3c6-93d5208241dc"
      },
      "source": [
        "import shutil\n",
        "shutil.copy(meme_net + \"meme_img_set.zip\", \"./meme_img_set.zip\")\n",
        "!unzip meme_img_set.zip > /dev/null\n",
        "MEME_LABELS = sorted(os.listdir(\"./meme_img_set/train\"))\n",
        "!echo success"
      ],
      "execution_count": 3,
      "outputs": [
        {
          "output_type": "stream",
          "text": [
            "success\n"
          ],
          "name": "stdout"
        }
      ]
    },
    {
      "cell_type": "markdown",
      "metadata": {
        "id": "hdw5KuoQEVKd"
      },
      "source": [
        "# Setup the dataset"
      ]
    },
    {
      "cell_type": "code",
      "metadata": {
        "id": "QPBLkBdoEcWg"
      },
      "source": [
        "def get_meme_data(testing=0):\n",
        "  transform_train = None\n",
        "  if not testing:\n",
        "    transform_train = transforms.Compose([\n",
        "      transforms.Resize(256),\n",
        "      transforms.CenterCrop(240),\n",
        "      transforms.ToTensor(),\n",
        "    ])\n",
        "  else:\n",
        "    transform_train = transforms.ToTensor()\n",
        "  \n",
        "  transform_test = transforms.Compose([\n",
        "    transforms.Resize(256),\n",
        "    transforms.CenterCrop(240),\n",
        "    transforms.ToTensor()\n",
        "  ])\n",
        "\n",
        "  trainset = torchvision.datasets.ImageFolder(root=\"./meme_img_set/train/\", transform=transform_train)\n",
        "  trainloader = torch.utils.data.DataLoader(trainset, batch_size=128, shuffle=True, num_workers=2)\n",
        "\n",
        "  testset = torchvision.datasets.ImageFolder(root=\"./meme_img_set/test/\", transform=transform_test)\n",
        "  testloader = torch.utils.data.DataLoader(testset, batch_size=128, shuffle=False, num_workers=2) # a warning suggested 2\n",
        "  \n",
        "  classes = MEME_LABELS\n",
        "  return {'train': trainloader, 'test': testloader, 'classes': classes}\n",
        "data = get_meme_data()"
      ],
      "execution_count": 4,
      "outputs": []
    },
    {
      "cell_type": "markdown",
      "metadata": {
        "id": "WzbFtsEzbjwk"
      },
      "source": [
        "# Visualize data from dataset"
      ]
    },
    {
      "cell_type": "code",
      "metadata": {
        "colab": {
          "base_uri": "https://localhost:8080/",
          "height": 162
        },
        "id": "P5B_tbycbqOw",
        "outputId": "f7a173b7-51ea-4eb9-a3bd-f1bfbad959a4"
      },
      "source": [
        "dataiter = iter(data['train'])\n",
        "images, labels = dataiter.next()\n",
        "images = images[:8]\n",
        "print(images.size())\n",
        "\n",
        "def imshow(img):\n",
        "    npimg = img.numpy()\n",
        "    plt.imshow(np.transpose(npimg, (1, 2, 0)))\n",
        "    plt.show()\n",
        "\n",
        "# show images\n",
        "imshow(torchvision.utils.make_grid(images))\n",
        "# print labels\n",
        "print(\"Labels:\" + ' '.join('%9s' % labels[j] for j in range(8)))\n",
        "\n",
        "flat = torch.flatten(images, 1)\n",
        "print(images.size())\n",
        "print(flat.size())"
      ],
      "execution_count": 5,
      "outputs": [
        {
          "output_type": "stream",
          "text": [
            "torch.Size([8, 3, 240, 240])\n"
          ],
          "name": "stdout"
        },
        {
          "output_type": "display_data",
          "data": {
            "image/png": "[encoded data removed]",
            "text/plain": [
              "<Figure size 432x288 with 1 Axes>"
            ]
          },
          "metadata": {
            "tags": [],
            "needs_background": "light"
          }
        },
        {
          "output_type": "stream",
          "text": [
            "Labels:tensor(82) tensor(208) tensor(127) tensor(131) tensor(230) tensor(59) tensor(220) tensor(206)\n",
            "torch.Size([8, 3, 240, 240])\n",
            "torch.Size([8, 172800])\n"
          ],
          "name": "stdout"
        }
      ]
    },
    {
      "cell_type": "markdown",
      "metadata": {
        "id": "CFMgnageek3D"
      },
      "source": [
        "# define training for model\n"
      ]
    },
    {
      "cell_type": "code",
      "metadata": {
        "id": "zLyfkrHnen5h"
      },
      "source": [
        "def train(net, dataloader, epochs=1, start_epoch=0, lr=0.01, momentum=0.9, decay=0.0005, \n",
        "          verbose=1, print_every=10, state=None, schedule={}, checkpoint_path=None):\n",
        "  net.to(device)\n",
        "  net.train()\n",
        "  losses = []\n",
        "  criterion = nn.CrossEntropyLoss()\n",
        "  optimizer = optim.SGD(net.parameters(), lr=lr, momentum=momentum, weight_decay=decay)\n",
        "\n",
        "  # Load previous training state\n",
        "  if state:\n",
        "      net.load_state_dict(state['net'])\n",
        "      optimizer.load_state_dict(state['optimizer'])\n",
        "      start_epoch = state['epoch']\n",
        "      losses = state['losses']\n",
        "\n",
        "  # Fast forward lr schedule through already trained epochs\n",
        "  for epoch in range(start_epoch):\n",
        "    if epoch in schedule:\n",
        "      print (\"Learning rate: %f\"% schedule[epoch])\n",
        "      for g in optimizer.param_groups:\n",
        "        g['lr'] = schedule[epoch]\n",
        "\n",
        "  for epoch in range(start_epoch, epochs):\n",
        "    sum_loss = 0.0\n",
        "\n",
        "    # Update learning rate when scheduled\n",
        "    if epoch in schedule:\n",
        "      print (\"Learning rate: %f\"% schedule[epoch])\n",
        "      for g in optimizer.param_groups:\n",
        "        g['lr'] = schedule[epoch]\n",
        "\n",
        "    for i, batch in enumerate(dataloader, 0):\n",
        "        inputs, labels = batch[0].to(device), batch[1].to(device)\n",
        "\n",
        "        optimizer.zero_grad()\n",
        "\n",
        "        outputs = net(inputs)\n",
        "        loss = criterion(outputs, labels)\n",
        "        loss.backward()  # autograd magic, computes all the partial derivatives\n",
        "        optimizer.step() # takes a step in gradient direction\n",
        "\n",
        "        losses.append(loss.item())\n",
        "        sum_loss += loss.item()\n",
        "        \n",
        "        if i % print_every == print_every-1:    # print every 10 mini-batches\n",
        "            if verbose:\n",
        "              print('[%d, %5d] loss: %.3f' % (epoch, i + 1, sum_loss / print_every))\n",
        "            sum_loss = 0.0\n",
        "    if checkpoint_path:\n",
        "      state = {'epoch': epoch+1, 'net': net.state_dict(), 'optimizer': optimizer.state_dict(), 'losses': losses}\n",
        "      torch.save(state, checkpoint_path + 'checkpoint-%d.pkl'%(epoch+1))\n",
        "  return losses\n",
        "\n",
        "def accuracy(net, dataloader):\n",
        "  net.to(device)\n",
        "  net.eval()\n",
        "  correct = 0\n",
        "  total = 0\n",
        "  with torch.no_grad():\n",
        "      \n",
        "      for batch in dataloader:\n",
        "          images, labels = batch[0].to(device), batch[1].to(device)\n",
        "          #print(\"labels\")\n",
        "          #print(labels)\n",
        "          outputs = net(images)\n",
        "          _, predicted = torch.max(outputs.data, 1)\n",
        "          total += labels.size(0)\n",
        "          correct += (predicted == labels).sum().item()\n",
        "\n",
        "          #print(\"predicted:\")\n",
        "          #print(predicted.cpu().numpy())\n",
        "          print(\"meme:\")\n",
        "          for fuck in predicted.cpu().numpy():\n",
        "            print(MEME_LABELS[fuck])\n",
        "          \n",
        "  return correct/total\n",
        "\n",
        "def smooth(x, size):\n",
        "  return np.convolve(x, np.ones(size)/size, mode='valid')"
      ],
      "execution_count": 6,
      "outputs": []
    },
    {
      "cell_type": "code",
      "metadata": {
        "colab": {
          "base_uri": "https://localhost:8080/"
        },
        "id": "o6v7N2dS70kS",
        "outputId": "9410eb34-a688-4044-d383-96d59a98e031"
      },
      "source": [
        "!mkdir meme_img_set/apply/\n",
        "%cd meme_img_set/apply/\n",
        "#!ls ../train/ | xargs -I % mkdir \"%\"\n",
        "#%cd ../../"
      ],
      "execution_count": 7,
      "outputs": [
        {
          "output_type": "stream",
          "text": [
            "/content/meme_img_set/apply\n"
          ],
          "name": "stdout"
        }
      ]
    },
    {
      "cell_type": "markdown",
      "metadata": {
        "id": "07_0IVIycX1l"
      },
      "source": [
        "# load and teach pretrained model"
      ]
    },
    {
      "cell_type": "code",
      "metadata": {
        "colab": {
          "base_uri": "https://localhost:8080/",
          "height": 1000,
          "referenced_widgets": [
            "bd13ea6b0a8346efabdb353cb9d0d93d",
            "2af9d9d7914a4ef8b7e045fc01d9c4d4",
            "52cd2d6431c14f4f8ef8d1c3f1420b88",
            "aa6cf92cffc444c6973bb3023d640c02",
            "874fecb09cf14c46ab5a6bf989b4b34b",
            "9924b87e0271439abd55fb17b2db415c",
            "3768f2bcc4a948ac9ba547174c007349",
            "0aeafa73f27d4c56a044b4f5e1149bff"
          ]
        },
        "id": "_ThkgT4PcbrJ",
        "outputId": "d95c0214-59c4-4cb0-8162-fcd244a839e9"
      },
      "source": [
        "model = torch.hub.load('pytorch/vision:v0.6.0', 'resnet18', pretrained=True)\n",
        "model.fc = nn.Linear(512, len(MEME_LABELS))\n",
        "model_losses = train(model, data[\"train\"], epochs = 20, lr=0.01, print_every=50, checkpoint_path=meme_net)\n",
        "print(\"Testing accuracy: %f\" % accuracy(model, data['test']))\n",
        "plt.plot(smooth(model_losses, 20))"
      ],
      "execution_count": null,
      "outputs": [
        {
          "output_type": "stream",
          "text": [
            "Downloading: \"https://github.com/pytorch/vision/archive/v0.6.0.zip\" to /root/.cache/torch/hub/v0.6.0.zip\n",
            "Downloading: \"https://download.pytorch.org/models/resnet18-5c106cde.pth\" to /root/.cache/torch/hub/checkpoints/resnet18-5c106cde.pth\n"
          ],
          "name": "stderr"
        },
        {
          "output_type": "display_data",
          "data": {
            "application/vnd.jupyter.widget-view+json": {
              "model_id": "bd13ea6b0a8346efabdb353cb9d0d93d",
              "version_minor": 0,
              "version_major": 2
            },
            "text/plain": [
              "HBox(children=(FloatProgress(value=0.0, max=46827520.0), HTML(value='')))"
            ]
          },
          "metadata": {
            "tags": []
          }
        },
        {
          "output_type": "stream",
          "text": [
            "\n",
            "[0,    50] loss: 4.294\n",
            "[0,   100] loss: 1.411\n",
            "[0,   150] loss: 0.608\n",
            "[0,   200] loss: 0.332\n",
            "[1,    50] loss: 0.175\n",
            "[1,   100] loss: 0.148\n",
            "[1,   150] loss: 0.128\n",
            "[1,   200] loss: 0.111\n",
            "[2,    50] loss: 0.078\n",
            "[2,   100] loss: 0.072\n",
            "[2,   150] loss: 0.073\n",
            "[2,   200] loss: 0.068\n",
            "[3,    50] loss: 0.043\n",
            "[3,   100] loss: 0.047\n",
            "[3,   150] loss: 0.043\n",
            "[3,   200] loss: 0.042\n",
            "[4,    50] loss: 0.030\n",
            "[4,   100] loss: 0.035\n",
            "[4,   150] loss: 0.035\n",
            "[4,   200] loss: 0.028\n",
            "[5,    50] loss: 0.025\n",
            "[5,   100] loss: 0.022\n",
            "[5,   150] loss: 0.024\n",
            "[5,   200] loss: 0.023\n",
            "[6,    50] loss: 0.019\n",
            "[6,   100] loss: 0.020\n",
            "[6,   150] loss: 0.021\n",
            "[6,   200] loss: 0.017\n",
            "[7,    50] loss: 0.017\n",
            "[7,   100] loss: 0.017\n",
            "[7,   150] loss: 0.014\n",
            "[7,   200] loss: 0.016\n",
            "[8,    50] loss: 0.016\n",
            "[8,   100] loss: 0.014\n",
            "[8,   150] loss: 0.015\n",
            "[8,   200] loss: 0.018\n",
            "[9,    50] loss: 0.014\n",
            "[9,   100] loss: 0.013\n",
            "[9,   150] loss: 0.014\n",
            "[9,   200] loss: 0.015\n",
            "[10,    50] loss: 0.013\n",
            "[10,   100] loss: 0.013\n",
            "[10,   150] loss: 0.012\n",
            "[10,   200] loss: 0.016\n",
            "[11,    50] loss: 0.012\n",
            "[11,   100] loss: 0.012\n",
            "[11,   150] loss: 0.014\n",
            "[11,   200] loss: 0.012\n",
            "[12,    50] loss: 0.012\n",
            "[12,   100] loss: 0.012\n",
            "[12,   150] loss: 0.011\n",
            "[12,   200] loss: 0.013\n",
            "[13,    50] loss: 0.011\n",
            "[13,   100] loss: 0.011\n",
            "[13,   150] loss: 0.012\n",
            "[13,   200] loss: 0.012\n",
            "[14,    50] loss: 0.011\n",
            "[14,   100] loss: 0.011\n",
            "[14,   150] loss: 0.010\n",
            "[14,   200] loss: 0.011\n",
            "[15,    50] loss: 0.010\n",
            "[15,   100] loss: 0.010\n",
            "[15,   150] loss: 0.010\n",
            "[15,   200] loss: 0.010\n",
            "[16,    50] loss: 0.010\n",
            "[16,   100] loss: 0.009\n",
            "[16,   150] loss: 0.011\n",
            "[16,   200] loss: 0.010\n",
            "[17,    50] loss: 0.010\n",
            "[17,   100] loss: 0.010\n",
            "[17,   150] loss: 0.009\n",
            "[17,   200] loss: 0.010\n",
            "[18,    50] loss: 0.010\n",
            "[18,   100] loss: 0.010\n",
            "[18,   150] loss: 0.011\n",
            "[18,   200] loss: 0.010\n",
            "[19,    50] loss: 0.009\n",
            "[19,   100] loss: 0.011\n",
            "[19,   150] loss: 0.009\n",
            "[19,   200] loss: 0.009\n",
            "Testing accuracy: 0.988580\n"
          ],
          "name": "stdout"
        },
        {
          "output_type": "execute_result",
          "data": {
            "text/plain": [
              "[<matplotlib.lines.Line2D at 0x7f08e0752f10>]"
            ]
          },
          "metadata": {
            "tags": []
          },
          "execution_count": 9
        },
        {
          "output_type": "display_data",
          "data": {
            "image/png": "[encoded data removed]",
            "text/plain": [
              "<Figure size 432x288 with 1 Axes>"
            ]
          },
          "metadata": {
            "tags": [],
            "needs_background": "light"
          }
        }
      ]
    },
    {
      "cell_type": "code",
      "metadata": {
        "colab": {
          "base_uri": "https://localhost:8080/"
        },
        "id": "9TdNKwTNv6TC",
        "outputId": "fa3b8dc3-202a-4cf4-e52b-ee1ac9d0cabb"
      },
      "source": [
        "state = torch.load(meme_net + 'checkpoint-20.pkl')\n",
        "model = torch.hub.load('pytorch/vision:v0.6.0', 'resnet18', pretrained=True)\n",
        "model.fc = nn.Linear(512, len(MEME_LABELS))\n",
        "model_losses = train(model, data[\"train\"], epochs = 20, lr=0.01, print_every=50, checkpoint_path=meme_net, state=state)\n",
        "transform_test = transforms.Compose([\n",
        "    transforms.Resize(256),\n",
        "    transforms.CenterCrop(240),\n",
        "    transforms.ToTensor()\n",
        "  ])\n",
        "\n",
        "applySet = torchvision.datasets.ImageFolder(root=\"./meme_img_set/apply/\", transform=transform_test)\n",
        "applyLoader = torch.utils.data.DataLoader(applySet, batch_size=128, shuffle=False, num_workers=2) # a warning suggested 2\n",
        "\n",
        "accuracy(model, applyLoader)"
      ],
      "execution_count": 18,
      "outputs": [
        {
          "output_type": "stream",
          "text": [
            "Using cache found in /root/.cache/torch/hub/pytorch_vision_v0.6.0\n"
          ],
          "name": "stderr"
        },
        {
          "output_type": "stream",
          "text": [
            "meme:\n",
            "not-a-meme\n",
            "Am-I-The-Only-One-Around-Here\n",
            "Drake-Hotline-Bling\n",
            "Socially-Awesome-Awkward-Penguin\n",
            "Success-Kid\n",
            "Virgin-and-Chad\n",
            "Distracted-Boyfriend\n",
            "say-the-line-bart-simpsons\n"
          ],
          "name": "stdout"
        },
        {
          "output_type": "execute_result",
          "data": {
            "text/plain": [
              "0.0"
            ]
          },
          "metadata": {
            "tags": []
          },
          "execution_count": 18
        }
      ]
    }
  ]
}